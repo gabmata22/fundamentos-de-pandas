{
 "cells": [
  {
   "cell_type": "code",
   "execution_count": 16,
   "id": "70b095e7",
   "metadata": {},
   "outputs": [],
   "source": [
    "import pandas as pd\n",
    "import numpy as np"
   ]
  },
  {
   "cell_type": "code",
   "execution_count": 2,
   "id": "62ddff6a",
   "metadata": {},
   "outputs": [
    {
     "name": "stdout",
     "output_type": "stream",
     "text": [
      "  nombres  edades     ciudad     genero\n",
      "0  alicia      23     Madrid   femenino\n",
      "1    juan      45  Barcelona  masculino\n",
      "2   pedro      34   Valencia  masculino\n",
      "3   maria      29    Sevilla   femenino\n"
     ]
    }
   ],
   "source": [
    "df = pd.DataFrame({\n",
    "    'nombres': ['alicia','juan','pedro','maria'],\n",
    "    'edades': [23, 45, 34, 29],\n",
    "    'ciudad': ['Madrid', 'Barcelona', 'Valencia', 'Sevilla'],\n",
    "    'genero': ['femenino', 'masculino', 'masculino', 'femenino']\n",
    "})\n",
    "\n",
    "#clave son columnas, valores son filas\n",
    "print(df)"
   ]
  },
  {
   "cell_type": "code",
   "execution_count": 3,
   "id": "1492c2db",
   "metadata": {},
   "outputs": [
    {
     "data": {
      "text/html": [
       "<div>\n",
       "<style scoped>\n",
       "    .dataframe tbody tr th:only-of-type {\n",
       "        vertical-align: middle;\n",
       "    }\n",
       "\n",
       "    .dataframe tbody tr th {\n",
       "        vertical-align: top;\n",
       "    }\n",
       "\n",
       "    .dataframe thead th {\n",
       "        text-align: right;\n",
       "    }\n",
       "</style>\n",
       "<table border=\"1\" class=\"dataframe\">\n",
       "  <thead>\n",
       "    <tr style=\"text-align: right;\">\n",
       "      <th></th>\n",
       "      <th>nombres</th>\n",
       "      <th>edades</th>\n",
       "      <th>ciudad</th>\n",
       "      <th>genero</th>\n",
       "    </tr>\n",
       "  </thead>\n",
       "  <tbody>\n",
       "    <tr>\n",
       "      <th>0</th>\n",
       "      <td>alicia</td>\n",
       "      <td>23</td>\n",
       "      <td>Madrid</td>\n",
       "      <td>femenino</td>\n",
       "    </tr>\n",
       "    <tr>\n",
       "      <th>1</th>\n",
       "      <td>juan</td>\n",
       "      <td>45</td>\n",
       "      <td>Barcelona</td>\n",
       "      <td>masculino</td>\n",
       "    </tr>\n",
       "    <tr>\n",
       "      <th>2</th>\n",
       "      <td>pedro</td>\n",
       "      <td>34</td>\n",
       "      <td>Valencia</td>\n",
       "      <td>masculino</td>\n",
       "    </tr>\n",
       "    <tr>\n",
       "      <th>3</th>\n",
       "      <td>maria</td>\n",
       "      <td>29</td>\n",
       "      <td>Sevilla</td>\n",
       "      <td>femenino</td>\n",
       "    </tr>\n",
       "  </tbody>\n",
       "</table>\n",
       "</div>"
      ],
      "text/plain": [
       "  nombres  edades     ciudad     genero\n",
       "0  alicia      23     Madrid   femenino\n",
       "1    juan      45  Barcelona  masculino\n",
       "2   pedro      34   Valencia  masculino\n",
       "3   maria      29    Sevilla   femenino"
      ]
     },
     "execution_count": 3,
     "metadata": {},
     "output_type": "execute_result"
    }
   ],
   "source": [
    "df"
   ]
  },
  {
   "cell_type": "code",
   "execution_count": 5,
   "id": "e5cdab32",
   "metadata": {},
   "outputs": [
    {
     "data": {
      "text/plain": [
       "0    alicia\n",
       "1      juan\n",
       "2     pedro\n",
       "3     maria\n",
       "Name: nombres, dtype: object"
      ]
     },
     "execution_count": 5,
     "metadata": {},
     "output_type": "execute_result"
    }
   ],
   "source": [
    "df ['nombres']"
   ]
  },
  {
   "cell_type": "code",
   "execution_count": null,
   "id": "0ace0de5",
   "metadata": {},
   "outputs": [],
   "source": [
    "df.shape #obtiene el numero de filas y columnas\n",
    "\n",
    "df.columns #obtiene los nombres de las columnas\n",
    "\n",
    "df.index #obtiene el indice de las filas\n",
    "\n",
    "df.dtypes #obtiene el tipo de dato de cada columna\n",
    "\n",
    "df.info() #obtiene informacion general del DataFrame\n",
    "\n",
    "df.describe() #obtiene estadisticas descriptivas de las columnas numericas\n",
    "\n",
    "df.head() #muestra las primeras 5 filas del DataFrame\n",
    "\n",
    "df.tail() #muestra las ultimas 5 filas del DataFrame\n",
    "\n",
    "df.sample(2) #muestra 2 filas aleatorias del DataFrame\n",
    "\n",
    "df['nombres'].unique() #obtiene los valores unicos de la columna 'nombres'"
   ]
  },
  {
   "cell_type": "code",
   "execution_count": 6,
   "id": "74b5098a",
   "metadata": {},
   "outputs": [
    {
     "data": {
      "text/plain": [
       "(4, 4)"
      ]
     },
     "execution_count": 6,
     "metadata": {},
     "output_type": "execute_result"
    }
   ],
   "source": [
    "df.shape"
   ]
  },
  {
   "cell_type": "code",
   "execution_count": 7,
   "id": "5cb34dcb",
   "metadata": {},
   "outputs": [
    {
     "data": {
      "text/plain": [
       "Index(['nombres', 'edades', 'ciudad', 'genero'], dtype='object')"
      ]
     },
     "execution_count": 7,
     "metadata": {},
     "output_type": "execute_result"
    }
   ],
   "source": [
    "df.columns"
   ]
  },
  {
   "cell_type": "code",
   "execution_count": 15,
   "id": "d83a0b29",
   "metadata": {},
   "outputs": [
    {
     "data": {
      "text/plain": [
       "4"
      ]
     },
     "execution_count": 15,
     "metadata": {},
     "output_type": "execute_result"
    }
   ],
   "source": [
    "df.shape[1] #numero de filas"
   ]
  },
  {
   "cell_type": "code",
   "execution_count": 9,
   "id": "8f28c689",
   "metadata": {},
   "outputs": [
    {
     "name": "stdout",
     "output_type": "stream",
     "text": [
      "<class 'pandas.core.frame.DataFrame'>\n",
      "RangeIndex: 4 entries, 0 to 3\n",
      "Data columns (total 4 columns):\n",
      " #   Column   Non-Null Count  Dtype \n",
      "---  ------   --------------  ----- \n",
      " 0   nombres  4 non-null      object\n",
      " 1   edades   4 non-null      int64 \n",
      " 2   ciudad   4 non-null      object\n",
      " 3   genero   4 non-null      object\n",
      "dtypes: int64(1), object(3)\n",
      "memory usage: 260.0+ bytes\n"
     ]
    }
   ],
   "source": [
    "df.info()"
   ]
  },
  {
   "cell_type": "code",
   "execution_count": null,
   "id": "f0f1c8a7",
   "metadata": {},
   "outputs": [],
   "source": [
    "# data frame es una estructura de datos bidimensional, similar a una tabla en una base de datos o una hoja de cálculo de Excel.\n",
    "# cada columna puede tener un tipo de dato diferente (numerico, texto, fecha, etc.)\n",
    "# las filas representan registros individuales, y las columnas representan atributos de esos registros.\n",
    "# pandas es una libreria de python para el analisis de datos, que proporciona estructuras de datos y herramientas para manipularlos."
   ]
  },
  {
   "cell_type": "code",
   "execution_count": null,
   "id": "0cea33d7",
   "metadata": {},
   "outputs": [],
   "source": []
  },
  {
   "cell_type": "code",
   "execution_count": null,
   "id": "f96f3888",
   "metadata": {},
   "outputs": [],
   "source": [
    "df1 = df.copy() # crea una copia del DataFrame original\n"
   ]
  },
  {
   "cell_type": "code",
   "execution_count": 17,
   "id": "1ea3ec55",
   "metadata": {},
   "outputs": [
    {
     "data": {
      "text/html": [
       "<div>\n",
       "<style scoped>\n",
       "    .dataframe tbody tr th:only-of-type {\n",
       "        vertical-align: middle;\n",
       "    }\n",
       "\n",
       "    .dataframe tbody tr th {\n",
       "        vertical-align: top;\n",
       "    }\n",
       "\n",
       "    .dataframe thead th {\n",
       "        text-align: right;\n",
       "    }\n",
       "</style>\n",
       "<table border=\"1\" class=\"dataframe\">\n",
       "  <thead>\n",
       "    <tr style=\"text-align: right;\">\n",
       "      <th></th>\n",
       "      <th>edades</th>\n",
       "    </tr>\n",
       "  </thead>\n",
       "  <tbody>\n",
       "    <tr>\n",
       "      <th>count</th>\n",
       "      <td>4.000000</td>\n",
       "    </tr>\n",
       "    <tr>\n",
       "      <th>mean</th>\n",
       "      <td>32.750000</td>\n",
       "    </tr>\n",
       "    <tr>\n",
       "      <th>std</th>\n",
       "      <td>9.322911</td>\n",
       "    </tr>\n",
       "    <tr>\n",
       "      <th>min</th>\n",
       "      <td>23.000000</td>\n",
       "    </tr>\n",
       "    <tr>\n",
       "      <th>25%</th>\n",
       "      <td>27.500000</td>\n",
       "    </tr>\n",
       "    <tr>\n",
       "      <th>50%</th>\n",
       "      <td>31.500000</td>\n",
       "    </tr>\n",
       "    <tr>\n",
       "      <th>75%</th>\n",
       "      <td>36.750000</td>\n",
       "    </tr>\n",
       "    <tr>\n",
       "      <th>max</th>\n",
       "      <td>45.000000</td>\n",
       "    </tr>\n",
       "  </tbody>\n",
       "</table>\n",
       "</div>"
      ],
      "text/plain": [
       "          edades\n",
       "count   4.000000\n",
       "mean   32.750000\n",
       "std     9.322911\n",
       "min    23.000000\n",
       "25%    27.500000\n",
       "50%    31.500000\n",
       "75%    36.750000\n",
       "max    45.000000"
      ]
     },
     "execution_count": 17,
     "metadata": {},
     "output_type": "execute_result"
    }
   ],
   "source": [
    "df.describe() # obtiene estadisticas descriptivas de las columnas numericas"
   ]
  },
  {
   "cell_type": "code",
   "execution_count": null,
   "id": "6741a163",
   "metadata": {},
   "outputs": [],
   "source": [
    "name =\" jose\""
   ]
  },
  {
   "cell_type": "code",
   "execution_count": 19,
   "id": "9ea99712",
   "metadata": {},
   "outputs": [
    {
     "data": {
      "text/plain": [
       "np.float64(32.75)"
      ]
     },
     "execution_count": 19,
     "metadata": {},
     "output_type": "execute_result"
    }
   ],
   "source": [
    "df['edades'].mean() # obtiene la media de la columna 'edades'"
   ]
  },
  {
   "cell_type": "code",
   "execution_count": 20,
   "id": "83287934",
   "metadata": {},
   "outputs": [
    {
     "data": {
      "text/plain": [
       "np.int64(45)"
      ]
     },
     "execution_count": 20,
     "metadata": {},
     "output_type": "execute_result"
    }
   ],
   "source": [
    "df['edades'].max() # obtiene el valor maximo de la columna 'edades'"
   ]
  },
  {
   "cell_type": "code",
   "execution_count": 21,
   "id": "a4e5b157",
   "metadata": {},
   "outputs": [
    {
     "data": {
      "text/plain": [
       "np.int64(23)"
      ]
     },
     "execution_count": 21,
     "metadata": {},
     "output_type": "execute_result"
    }
   ],
   "source": [
    "df['edades'].min() # obtiene el valor minimo de la columna 'edades'"
   ]
  },
  {
   "cell_type": "code",
   "execution_count": null,
   "id": "b9930338",
   "metadata": {},
   "outputs": [],
   "source": []
  }
 ],
 "metadata": {
  "kernelspec": {
   "display_name": ".venv",
   "language": "python",
   "name": "python3"
  },
  "language_info": {
   "codemirror_mode": {
    "name": "ipython",
    "version": 3
   },
   "file_extension": ".py",
   "mimetype": "text/x-python",
   "name": "python",
   "nbconvert_exporter": "python",
   "pygments_lexer": "ipython3",
   "version": "3.13.5"
  }
 },
 "nbformat": 4,
 "nbformat_minor": 5
}
